{
 "cells": [
  {
   "cell_type": "markdown",
   "metadata": {},
   "source": [
    "### 1.Write a Python program to convert kilometers to miles?"
   ]
  },
  {
   "cell_type": "code",
   "execution_count": 2,
   "metadata": {},
   "outputs": [
    {
     "name": "stdout",
     "output_type": "stream",
     "text": [
      "Kilometer:0\n",
      "\n",
      "Miles: 0.0\n"
     ]
    }
   ],
   "source": [
    "try:\n",
    "    x=float(input(\"Kilometer:\"))\n",
    "    output=x*0.62 #**calculation**\n",
    "    print(\"\\nMiles:\",output)\n",
    "except:\n",
    "    print(\"Invalid input please enter interger or float value\")"
   ]
  },
  {
   "cell_type": "markdown",
   "metadata": {},
   "source": [
    "### 2.Write a Python program to convert Celsius to Fahrenheit?"
   ]
  },
  {
   "cell_type": "code",
   "execution_count": 16,
   "metadata": {},
   "outputs": [
    {
     "name": "stdout",
     "output_type": "stream",
     "text": [
      "Celsius: 2\n",
      "\n",
      "Fahrenheit 35.6 degree\n"
     ]
    }
   ],
   "source": [
    "try:\n",
    "    x=float(input(\"Celsius: \"))\n",
    "    output=(x *9/5) + 32  #**calculation**\n",
    "    print(\"\\nFahrenheit {} degree\".format(output))\n",
    "except:\n",
    "    print(\"Invalid input please enter valid number\")"
   ]
  },
  {
   "cell_type": "markdown",
   "metadata": {},
   "source": [
    "### 3.Write a Python program to display calendar?"
   ]
  },
  {
   "cell_type": "code",
   "execution_count": 14,
   "metadata": {},
   "outputs": [
    {
     "name": "stdout",
     "output_type": "stream",
     "text": [
      "Enter year: 2\n",
      "Enter month: 3\n",
      "\n",
      "                  March 2\n",
      "\n",
      " Mon   Tue   Wed   Thu   Fri   Sat   Sun\n",
      "\n",
      "                           1     2     3\n",
      "\n",
      "   4     5     6     7     8     9    10\n",
      "\n",
      "  11    12    13    14    15    16    17\n",
      "\n",
      "  18    19    20    21    22    23    24\n",
      "\n",
      "  25    26    27    28    29    30    31\n",
      "\n",
      "\n"
     ]
    }
   ],
   "source": [
    "import calendar\n",
    "try:\n",
    "    year = int(input(\"Enter year: \"))\n",
    "    month = int(input(\"Enter month: \"))\n",
    "except:\n",
    "    print(\"Invalid input please enter valid year and month \")\n",
    "\n",
    "print(\"\\n\",calendar.month(year, month,w=5,l=2))"
   ]
  },
  {
   "cell_type": "markdown",
   "metadata": {},
   "source": [
    "### 4.Write a Python program to solve quadratic equation?"
   ]
  },
  {
   "cell_type": "code",
   "execution_count": 15,
   "metadata": {},
   "outputs": [
    {
     "name": "stdout",
     "output_type": "stream",
     "text": [
      "To solve quadratic equation please enter values of a,b,c where a!=0\n",
      "Value of a:0\n",
      "TRY AGAIN VALUE OF A CANT BE 0\n",
      "\n",
      "Value of a:-1\n",
      "Value of b:7\n",
      "Value of c:12\n",
      "Root1:  (8.424428900898052-0j)\n",
      "Root2:  (-1.424428900898052-0j)\n"
     ]
    }
   ],
   "source": [
    "import cmath\n",
    "print(\"To solve quadratic equation please enter values of a,b,c where a!=0\")\n",
    "\n",
    "#This blog will take care if user enters 0 value.\n",
    "while True:\n",
    "    try:\n",
    "        a=int(input(\"Value of a:\"))\n",
    "        if a==0:\n",
    "            raise Exception(\"jsvbufhd\")\n",
    "        break    \n",
    "    except:\n",
    "        print(\"TRY AGAIN VALUE OF A CANT BE 0\\n\")\n",
    "        \n",
    "b=int(input(\"Value of b:\"))\n",
    "c=int(input(\"Value of c:\"))\n",
    "\n",
    "d = (b**2) - (4*a*c)\n",
    "\n",
    "x = (-b - cmath.sqrt(d)) / (2 * a)\n",
    "y = (-b + cmath.sqrt(d)) / (2 * a)\n",
    "\n",
    "print('Root1: ', x)\n",
    "print('Root2: ', y)"
   ]
  },
  {
   "cell_type": "markdown",
   "metadata": {},
   "source": [
    "### 5.Write a Python program to swap two variables without temp variable?"
   ]
  },
  {
   "cell_type": "code",
   "execution_count": 20,
   "metadata": {},
   "outputs": [
    {
     "name": "stdout",
     "output_type": "stream",
     "text": [
      "a=5 and b=10\n"
     ]
    }
   ],
   "source": [
    "a=10\n",
    "b=5\n",
    "\n",
    "a,b = b,a #swap\n",
    "\n",
    "print(\"a={} and b={}\".format(a,b))"
   ]
  }
 ],
 "metadata": {
  "kernelspec": {
   "display_name": "Python 3",
   "language": "python",
   "name": "python3"
  },
  "language_info": {
   "codemirror_mode": {
    "name": "ipython",
    "version": 3
   },
   "file_extension": ".py",
   "mimetype": "text/x-python",
   "name": "python",
   "nbconvert_exporter": "python",
   "pygments_lexer": "ipython3",
   "version": "3.7.4"
  }
 },
 "nbformat": 4,
 "nbformat_minor": 2
}
