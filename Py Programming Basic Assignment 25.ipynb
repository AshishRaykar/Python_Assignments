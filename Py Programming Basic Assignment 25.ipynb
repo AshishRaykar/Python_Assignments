{
 "cells": [
  {
   "cell_type": "markdown",
   "metadata": {},
   "source": [
    "## 1.Create a function that takes three integer arguments (a, b, c) and returns the amount of integers which are of equal value."
   ]
  },
  {
   "cell_type": "code",
   "execution_count": 16,
   "metadata": {},
   "outputs": [],
   "source": [
    "\n",
    "def equal(a,b,c):\n",
    "    \n",
    "    try:\n",
    "        a&b&c != type(int)\n",
    "    except:\n",
    "        print(\"add int\")\n",
    "        \n",
    "    list=[a,b,c]\n",
    "    list_2=[]\n",
    "    for i in list:\n",
    "        if list.count(i)>1:\n",
    "            list_2.append(i)\n",
    "            \n",
    "    dup=len(list_2)\n",
    "    print(dup)\n",
    "    \n",
    "        \n",
    "        \n",
    "        \n",
    "        "
   ]
  },
  {
   "cell_type": "code",
   "execution_count": 18,
   "metadata": {},
   "outputs": [
    {
     "name": "stdout",
     "output_type": "stream",
     "text": [
      "3\n"
     ]
    }
   ],
   "source": [
    "equal(2,2,2)"
   ]
  },
  {
   "cell_type": "markdown",
   "metadata": {},
   "source": [
    "## 2.Write a function that converts a dictionary into a list of keys-values tuples."
   ]
  },
  {
   "cell_type": "code",
   "execution_count": 37,
   "metadata": {},
   "outputs": [
    {
     "name": "stdout",
     "output_type": "stream",
     "text": [
      "[('likes', 4), ('dislikes', 3), ('followers', 10)]\n"
     ]
    }
   ],
   "source": [
    "def dict_to_list(dictin):\n",
    "    l=list(dictin.items())\n",
    "    print(l)\n",
    "\n",
    "\n",
    "\n",
    "\n",
    "\n",
    "\n",
    "dict_to_list({\n",
    "\"likes\": 4,\n",
    "\"dislikes\": 3,\n",
    "\"followers\": 10\n",
    "})\n"
   ]
  },
  {
   "cell_type": "markdown",
   "metadata": {},
   "source": [
    "## 3.Write a function that creates a dictionary with each (key, value) pair being the (lower case,upper case) versions of a letter, respectively."
   ]
  },
  {
   "cell_type": "code",
   "execution_count": 43,
   "metadata": {},
   "outputs": [
    {
     "name": "stdout",
     "output_type": "stream",
     "text": [
      "{'a': 'A', 'b': 'B'}\n"
     ]
    }
   ],
   "source": [
    "def mapping(lis):\n",
    "    dict1={}\n",
    "    for i in lis:\n",
    "        dict1[i]=i.upper()\n",
    "    print(dict1)\n",
    "    \n",
    "i=[\"a\",\"b\"]  \n",
    "mapping(i)"
   ]
  },
  {
   "cell_type": "markdown",
   "metadata": {},
   "source": [
    "## 4.Write a function, that replaces all vowels in a string with a specified vowel."
   ]
  },
  {
   "cell_type": "code",
   "execution_count": 10,
   "metadata": {},
   "outputs": [
    {
     "name": "stdout",
     "output_type": "stream",
     "text": [
      "u um urunmun\n"
     ]
    }
   ],
   "source": [
    "#vowels=[\"a\",\"e\",\"i\",\"o\",\"u\"]\n",
    "\n",
    "def vow_replace(stat,vow_key):\n",
    "    #.........................\n",
    "    emptystring=[]\n",
    "    vowels=[\"a\",\"e\",\"i\",\"o\",\"u\"]\n",
    "    \n",
    "    #.........................\n",
    "    if vow_key in vowels:\n",
    "        for i in stat:\n",
    "            if i in vowels:\n",
    "                replacer=i.replace(i,vow_key)\n",
    "                emptystring.append(replacer)\n",
    "            else:\n",
    "                emptystring.append(i)\n",
    "        #.............................        \n",
    "        replaced=\"\".join(emptystring)#TO JOIN THE emptystring list\n",
    "        print(replaced) \n",
    "    \n",
    "    else:\n",
    "        print(\"Error: Given input is not a vowel\")\n",
    "    \n",
    "        \n",
    "                \n",
    "vow_replace(\"i am ironman\",\"u\")            \n",
    "        \n",
    "    "
   ]
  },
  {
   "cell_type": "markdown",
   "metadata": {},
   "source": [
    "## 5.Create a function that takes a string as input and capitalizes a letter if its ASCII code is even and returns its lower case version if its ASCII code is odd."
   ]
  },
  {
   "cell_type": "code",
   "execution_count": 17,
   "metadata": {},
   "outputs": [],
   "source": [
    "def ascii_capitalize(stri):\n",
    "    emptystring=[]\n",
    "    for i in stri:\n",
    "        ascII_key=ord(i)\n",
    "        if (ascII_key%2) == 0:\n",
    "            ascII_strconverter=chr(ascII_key)\n",
    "            emptystring.append(ascII_strconverter.upper())\n",
    "        else:\n",
    "            ascII_strconverter=chr(ascII_key)\n",
    "            emptystring.append(ascII_strconverter.lower())\n",
    "            \n",
    "    replaced=\"\".join(emptystring)#TO JOIN THE emptystring list\n",
    "    print(replaced) "
   ]
  },
  {
   "cell_type": "code",
   "execution_count": 21,
   "metadata": {},
   "outputs": [
    {
     "name": "stdout",
     "output_type": "stream",
     "text": [
      "wHaTeVeR iT Takes\n"
     ]
    }
   ],
   "source": [
    "ascii_capitalize(\"Whatever it takes\")"
   ]
  },
  {
   "cell_type": "code",
   "execution_count": null,
   "metadata": {},
   "outputs": [],
   "source": []
  },
  {
   "cell_type": "code",
   "execution_count": null,
   "metadata": {},
   "outputs": [],
   "source": []
  }
 ],
 "metadata": {
  "kernelspec": {
   "display_name": "Python 3",
   "language": "python",
   "name": "python3"
  },
  "language_info": {
   "codemirror_mode": {
    "name": "ipython",
    "version": 3
   },
   "file_extension": ".py",
   "mimetype": "text/x-python",
   "name": "python",
   "nbconvert_exporter": "python",
   "pygments_lexer": "ipython3",
   "version": "3.7.4"
  }
 },
 "nbformat": 4,
 "nbformat_minor": 2
}
