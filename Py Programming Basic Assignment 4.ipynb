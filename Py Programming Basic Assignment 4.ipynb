{
 "cells": [
  {
   "cell_type": "markdown",
   "metadata": {},
   "source": [
    "1. Write a Python Program to Find the Factorial of a Number?"
   ]
  },
  {
   "cell_type": "code",
   "execution_count": 4,
   "metadata": {},
   "outputs": [
    {
     "name": "stdout",
     "output_type": "stream",
     "text": [
      "Enter the no.5\n",
      "120\n"
     ]
    }
   ],
   "source": [
    "x=int(input(\"Enter the no.\"))\n",
    "\n",
    "def fact(x):\n",
    "    if x==1:\n",
    "        return x\n",
    "    else:\n",
    "        return x * fact(x - 1)\n",
    "    \n",
    "if x<1:\n",
    "    print(\"Enter postive no.\")\n",
    "elif x==0:\n",
    "    print(\"1\")\n",
    "else:\n",
    "    print(fact(x))"
   ]
  },
  {
   "cell_type": "markdown",
   "metadata": {},
   "source": [
    "2. Write a Python Program to Display the multiplication Table?"
   ]
  },
  {
   "cell_type": "code",
   "execution_count": 3,
   "metadata": {},
   "outputs": [
    {
     "name": "stdout",
     "output_type": "stream",
     "text": [
      "Display the Multiplication Table: 5\n",
      "5 x 1 = 5 \n",
      "5 x 2 = 5 \n",
      "5 x 3 = 5 \n",
      "5 x 4 = 5 \n",
      "5 x 5 = 5 \n",
      "5 x 6 = 5 \n",
      "5 x 7 = 5 \n",
      "5 x 8 = 5 \n",
      "5 x 9 = 5 \n",
      "5 x 10 = 5 \n"
     ]
    }
   ],
   "source": [
    "num=int(input(\"Display the Multiplication Table: \"))\n",
    "for i in range(1,11):\n",
    "    print(\"{0} x {1} = {2} \".format(num,i,num*1))"
   ]
  },
  {
   "cell_type": "markdown",
   "metadata": {},
   "source": [
    "3. Write a Python Program to Print the Fibonacci sequence?"
   ]
  },
  {
   "cell_type": "code",
   "execution_count": 37,
   "metadata": {},
   "outputs": [
    {
     "name": "stdout",
     "output_type": "stream",
     "text": [
      "Enter the fib range 1\n",
      "0\n"
     ]
    }
   ],
   "source": [
    "def fib(n):\n",
    "    a=0\n",
    "    b=1\n",
    "    for i in range(0,n):\n",
    "        print(a)\n",
    "        a,b=b,a+b\n",
    "        \n",
    "fib_range=int(input(\"Enter the fib range \"))\n",
    "if fib_range<=0:\n",
    "    print(\"Enter sequence greater than 0\")\n",
    "else:    \n",
    "    fib(fib_range)\n",
    "    "
   ]
  },
  {
   "cell_type": "markdown",
   "metadata": {},
   "source": [
    "4. Write a Python Program to Check Armstrong Number?"
   ]
  },
  {
   "cell_type": "code",
   "execution_count": 81,
   "metadata": {},
   "outputs": [
    {
     "name": "stdout",
     "output_type": "stream",
     "text": [
      "Enter value to check arm strong no. 1\n",
      "Its an armstrong no.\n"
     ]
    }
   ],
   "source": [
    "value=int(input(\"Enter value to check arm strong no. \"))\n",
    "\n",
    "\n",
    "def armstrong(x):\n",
    "    sum=0\n",
    "    n=len(str(x)) # To calculate the no. of digits\n",
    "    digit=[int(i) for i in str(x)]\n",
    "\n",
    "    for i in digit:\n",
    "        sum+=i**n  #armstrong calculation\n",
    "        \n",
    "    if sum == x:   #To check the condition\n",
    "        print(\"Its an armstrong no.\")\n",
    "    else:\n",
    "        print(\"Not an armstrong no.\")\n",
    "        \n",
    "armstrong(value)    \n",
    "    "
   ]
  },
  {
   "cell_type": "markdown",
   "metadata": {},
   "source": [
    "5. Write a Python Program to Find Armstrong Number in an Interval?"
   ]
  },
  {
   "cell_type": "code",
   "execution_count": 82,
   "metadata": {},
   "outputs": [
    {
     "name": "stdout",
     "output_type": "stream",
     "text": [
      "Enter lower interval 1\n",
      "Enter higher interval 1000\n",
      "[1, 2, 3, 4, 5, 6, 7, 8, 9, 153, 370, 371, 407]\n"
     ]
    }
   ],
   "source": [
    "l_interval=int(input(\"Enter lower interval \"))\n",
    "h_interval=int(input(\"Enter higher interval \"))\n",
    "li=[]\n",
    "\n",
    "def armstrong(x):\n",
    "    count=0\n",
    "    n=len(str(x)) # To calculate the no. of digits\n",
    "    digit=[int(i) for i in str(x)]\n",
    "\n",
    "    for i in digit:\n",
    "        count+=i**n  #armstrong calculation\n",
    "        \n",
    "    if count == x:   #To check the condition\n",
    "        li.append(count)\n",
    "        \n",
    "for num in range(l_interval,h_interval+1):\n",
    "    armstrong(num)\n",
    "print(li)      "
   ]
  },
  {
   "cell_type": "markdown",
   "metadata": {},
   "source": [
    "6. Write a Python Program to Find the Sum of Natural Numbers?"
   ]
  },
  {
   "cell_type": "code",
   "execution_count": 95,
   "metadata": {},
   "outputs": [
    {
     "name": "stdout",
     "output_type": "stream",
     "text": [
      "Enter the Range to Find the Sum of Natural Numbers 3\n"
     ]
    },
    {
     "data": {
      "text/plain": [
       "6"
      ]
     },
     "execution_count": 95,
     "metadata": {},
     "output_type": "execute_result"
    }
   ],
   "source": [
    "x=int(input(\"Enter the Range to Find the Sum of Natural Numbers \"))\n",
    "sum=0\n",
    "\n",
    "if x < 0:\n",
    "    print('Enter number above 0')\n",
    "else:    \n",
    "    for i in range(1,x+1):\n",
    "        sum+=i\n",
    "sum        \n",
    "        \n",
    "                \n",
    "        "
   ]
  }
 ],
 "metadata": {
  "kernelspec": {
   "display_name": "Python 3",
   "language": "python",
   "name": "python3"
  },
  "language_info": {
   "codemirror_mode": {
    "name": "ipython",
    "version": 3
   },
   "file_extension": ".py",
   "mimetype": "text/x-python",
   "name": "python",
   "nbconvert_exporter": "python",
   "pygments_lexer": "ipython3",
   "version": "3.7.4"
  }
 },
 "nbformat": 4,
 "nbformat_minor": 2
}
