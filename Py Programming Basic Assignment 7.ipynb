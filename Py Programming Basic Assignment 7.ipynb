{
 "cells": [
  {
   "cell_type": "markdown",
   "metadata": {},
   "source": [
    "## 1. Write a Python Program to find sum of array?"
   ]
  },
  {
   "cell_type": "code",
   "execution_count": 1,
   "metadata": {},
   "outputs": [],
   "source": [
    "import array as arr"
   ]
  },
  {
   "cell_type": "code",
   "execution_count": 4,
   "metadata": {},
   "outputs": [
    {
     "data": {
      "text/plain": [
       "15"
      ]
     },
     "execution_count": 4,
     "metadata": {},
     "output_type": "execute_result"
    }
   ],
   "source": [
    "a=arr.array('i',[1,2,3,4,5])\n",
    "result=0\n",
    "for i in a:\n",
    "    result+=i\n",
    "result    "
   ]
  },
  {
   "cell_type": "markdown",
   "metadata": {},
   "source": [
    "## 2. Write a Python Program to find largest element in an array?"
   ]
  },
  {
   "cell_type": "code",
   "execution_count": 6,
   "metadata": {},
   "outputs": [
    {
     "data": {
      "text/plain": [
       "5"
      ]
     },
     "execution_count": 6,
     "metadata": {},
     "output_type": "execute_result"
    }
   ],
   "source": [
    "b=arr.array('i',[1,2,3,4,5])\n",
    "\n",
    "max(b)"
   ]
  },
  {
   "cell_type": "markdown",
   "metadata": {},
   "source": [
    "## 3. Write a Python Program for array rotation?"
   ]
  },
  {
   "cell_type": "code",
   "execution_count": 16,
   "metadata": {},
   "outputs": [
    {
     "name": "stdout",
     "output_type": "stream",
     "text": [
      "Array after left rotation is:  [1, 2, 3, 4, 5, 6, 7]\n"
     ]
    }
   ],
   "source": [
    "def arr_rotate(arr,n,d):\n",
    "    temp=[]\n",
    "    i=0\n",
    "    while (i<d):\n",
    "        temp.append(arr[i])\n",
    "        i+=1\n",
    "    i=0\n",
    "    while (i<d):\n",
    "        arr.remove(arr[0])    \n",
    "        i+=1\n",
    "        \n",
    "    for i in temp:\n",
    "        arr.append(i)\n",
    "    return arr\n",
    "    \n",
    "    \n",
    "    \n",
    "arr = [1, 2, 3, 4, 5, 6, 7]\n",
    "print(\"Array after left rotation is: \", end=' ')\n",
    "print(arr_rotate(arr, len(arr), 7))   "
   ]
  },
  {
   "cell_type": "markdown",
   "metadata": {},
   "source": [
    "## 4. Write a Python Program to Split the array and add the first part to the end?"
   ]
  },
  {
   "cell_type": "code",
   "execution_count": null,
   "metadata": {},
   "outputs": [],
   "source": [
    "def arr_split(arr,n,d):\n",
    "    temp=[]\n",
    "    i=0\n",
    "    while (i<d):\n",
    "        temp.append(arr[i])\n",
    "        i+=1\n",
    "    i=0\n",
    "    while (i<d):\n",
    "        arr.remove(arr[0])    \n",
    "        i+=1\n",
    "        \n",
    "    for i in temp:\n",
    "        arr.append(i)\n",
    "    return arr\n",
    "    \n",
    "    \n",
    "    \n",
    "arr = [1, 2, 3, 4, 5, 6, 7]\n",
    "print(\"Array after split is: \", end=' ')\n",
    "print(arr_split(arr, len(arr), 7)) "
   ]
  },
  {
   "cell_type": "markdown",
   "metadata": {},
   "source": [
    "## 5. Write a Python Program to check if given array is Monotonic?"
   ]
  },
  {
   "cell_type": "code",
   "execution_count": 17,
   "metadata": {},
   "outputs": [
    {
     "name": "stdout",
     "output_type": "stream",
     "text": [
      "True\n"
     ]
    }
   ],
   "source": [
    "def Monotonic(arr):\n",
    "  \n",
    "    return (all(arr[i] <= arr[i + 1] for i in range(len(arr) - 1)) or\n",
    "            all(arr[i] >= arr[i + 1] for i in range(len(arr) - 1)))\n",
    "\n",
    "arr = [6, 5, 4, 4]\n",
    "print(Monotonic(arr))"
   ]
  },
  {
   "cell_type": "code",
   "execution_count": null,
   "metadata": {},
   "outputs": [],
   "source": []
  },
  {
   "cell_type": "code",
   "execution_count": null,
   "metadata": {},
   "outputs": [],
   "source": []
  },
  {
   "cell_type": "code",
   "execution_count": null,
   "metadata": {},
   "outputs": [],
   "source": []
  }
 ],
 "metadata": {
  "kernelspec": {
   "display_name": "Python 3",
   "language": "python",
   "name": "python3"
  },
  "language_info": {
   "codemirror_mode": {
    "name": "ipython",
    "version": 3
   },
   "file_extension": ".py",
   "mimetype": "text/x-python",
   "name": "python",
   "nbconvert_exporter": "python",
   "pygments_lexer": "ipython3",
   "version": "3.7.4"
  }
 },
 "nbformat": 4,
 "nbformat_minor": 2
}
