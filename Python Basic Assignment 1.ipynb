{
 "cells": [
  {
   "cell_type": "markdown",
   "metadata": {},
   "source": [
    "## Python Basic Assignment 1"
   ]
  },
  {
   "cell_type": "markdown",
   "metadata": {},
   "source": [
    "#### 1. In the below elements which of them are values or an expression? eg:- values can be integer or string and expressions will be mathematical operators.\n",
    "   \n",
    "###### Answer: \n",
    "     Expressions= * - / +\n",
    "     Integer,String or Float= -87.8, 6, 'hello'"
   ]
  },
  {
   "cell_type": "markdown",
   "metadata": {},
   "source": [
    "#### 2. What is the difference between string and variable?\n",
    "\n",
    "String= The string is an data type were we can assign a variable with sequence of characters using double quote(\") or single quote (') in python.\n",
    "for eg: `s=\"ashish\"`\n",
    "\n",
    "Variable=It is a references that you create to represent any value in your program.\n",
    " for eg: `x=10` (here \"x\" is an variable were we have assigned a value 10)"
   ]
  },
  {
   "cell_type": "markdown",
   "metadata": {},
   "source": [
    "#### 3. Describe three different data types.\n",
    "\n",
    "1. Integer: It contains positive or negative whole numbers `a=12`\n",
    "2. Float: It contains positive or negative decimal point numbers `f=16.9`\n",
    "3. Boolean: The boolean data type returns two values `True` or `False`\n"
   ]
  },
  {
   "cell_type": "markdown",
   "metadata": {},
   "source": [
    "#### 4. What is an expression made up of? What do all expressions do? \n",
    "\n",
    "Expressions are representations of value.Expressions only contain identifiers, literals, and operators they are used to calculate values."
   ]
  },
  {
   "cell_type": "markdown",
   "metadata": {},
   "source": [
    "####  5. This assignment statements, like spam = 10. What is the difference         between an expression and a statement?\n",
    "\n",
    "Anything that evaluates to something is a Python expression, while, anything that does something is a Python statement like assignment statement,loops etc."
   ]
  },
  {
   "cell_type": "markdown",
   "metadata": {},
   "source": [
    "#### 6. After running the following code, what does the variable bacon contain?\n",
    "\n",
    "`bacon = 22`\n",
    "\n",
    "`bacon + 1`\n",
    "\n",
    "The bacon returns the value  23."
   ]
  },
  {
   "cell_type": "markdown",
   "metadata": {},
   "source": [
    "#### 7. What should the values of the following two terms be?\n",
    "\n",
    "`'spam' + 'spamspam'`\n",
    "\n",
    "`'spam'* 3`"
   ]
  },
  {
   "cell_type": "code",
   "execution_count": 3,
   "metadata": {},
   "outputs": [
    {
     "name": "stdout",
     "output_type": "stream",
     "text": [
      "value 1: spamspamspam\n",
      "value 2: spamspamspam\n"
     ]
    }
   ],
   "source": [
    "print(\"value 1:\",'spam' + 'spamspam')\n",
    "print(\"value 2:\",'spam' * 3)"
   ]
  },
  {
   "cell_type": "markdown",
   "metadata": {},
   "source": [
    "#### 8. Why is eggs a valid variable name while 100 is invalid?\n",
    "\n",
    "The variable 100 will give error because in python variable name should begin with a letter A-Z not with digits. "
   ]
  },
  {
   "cell_type": "markdown",
   "metadata": {},
   "source": [
    "#### 9. What three functions can be used to get the integer, floating-point number, or string version of a value?\n",
    "\n",
    "The `int()`, `float()`, `str()` function can be used to get the integer, floating-point number, or string version of a value"
   ]
  },
  {
   "cell_type": "markdown",
   "metadata": {},
   "source": [
    "#### 10. Why does this expression cause an error? How can you fix it?\n",
    "\n",
    "`'I have eaten'  + 99 +  'burritos.'`\n",
    "\n",
    "The above expression cause an error because we cannot concatenate  int with str"
   ]
  },
  {
   "cell_type": "code",
   "execution_count": 9,
   "metadata": {},
   "outputs": [
    {
     "data": {
      "text/plain": [
       "'I have eaten 99 burritos.'"
      ]
     },
     "execution_count": 9,
     "metadata": {},
     "output_type": "execute_result"
    }
   ],
   "source": [
    "#To fix this we can convert 99 to string value '99'\n",
    "'I have eaten '  + '99' +  ' burritos.'"
   ]
  }
 ],
 "metadata": {
  "kernelspec": {
   "display_name": "Python 3",
   "language": "python",
   "name": "python3"
  },
  "language_info": {
   "codemirror_mode": {
    "name": "ipython",
    "version": 3
   },
   "file_extension": ".py",
   "mimetype": "text/x-python",
   "name": "python",
   "nbconvert_exporter": "python",
   "pygments_lexer": "ipython3",
   "version": "3.7.4"
  }
 },
 "nbformat": 4,
 "nbformat_minor": 2
}
